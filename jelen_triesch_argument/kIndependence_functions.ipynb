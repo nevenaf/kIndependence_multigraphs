{
 "cells": [
  {
   "cell_type": "markdown",
   "metadata": {},
   "source": [
    "## Operators related to $k$-Independence\n",
    "\n",
    "Let $D = [d_0, d_1, \\dots, d_{n}]$ be a sequence of length $n+1$ such that $d_0 \\leq d_1 \\leq \\dots \\leq d_{n-1}$.\n",
    "\n",
    "__Omega operator__ $\\omega(D,k)$ consists of $d_n$ consequtive applications of legal decrements performed starting with sequence $D' = [d_0, d_1, \\dots, d_{n-1}]$ of length $n$. \n",
    "\n",
    "__A legal decrement__ of a non-decreasing sequence $D'$ for given $k$: \n",
    "\n",
    "Decrement $d_i := d_i -1$ where $i$ is determined as follows:\n",
    "- if $\\sum_{j=0}^{n-2} d_j < d_{n-1}$, then $i = n-1$ in order for the sequence to remain graphical; \n",
    "- if $d_{n-1} > k$, then decrement a vertex with the highest degree choosing $i$ such that the sequence remains sorted;\n",
    "- if $d_{n-1} \\leq k$, then decrement a vertex with the smallest non-zero degree, keep sequence sorted.\n",
    " \n"
   ]
  },
  {
   "cell_type": "code",
   "execution_count": 1,
   "metadata": {
    "collapsed": true
   },
   "outputs": [],
   "source": [
    "def legal_decrement(D,k):\n",
    "    n = len(D)\n",
    "    i = 0\n",
    "    \n",
    "    if sum(D[0:n-1])<D[-1]:\n",
    "        i = n-1\n",
    "    elif D[-1]>k:\n",
    "        i=n-1\n",
    "        while i>0 and D[i-1]==D[-1]:\n",
    "            i -= 1\n",
    "    else:\n",
    "        i = 0\n",
    "        while i<n and D[i]==0:\n",
    "            i += 1\n",
    "    if i<0 or i==n:\n",
    "        print 'error: legal decrement could not be performed'\n",
    "        print 'k=', k, 'D=', D\n",
    "    else:    \n",
    "        D[i] -= 1   \n",
    "\n",
    "def omega(D, k):\n",
    "    n = len(D)\n",
    "    new_D = [D[v] for v in range(n-1)]\n",
    "    for v in range(D[-1]):\n",
    "        legal_decrement(new_D, k)\n",
    "    return new_D        "
   ]
  },
  {
   "cell_type": "markdown",
   "metadata": {},
   "source": [
    "__Value b__: $b(D,k)$ is the length of a sequence obtained after consecutive applications of omega operator starting with sequence $D$ and terminating when all values in the sequence are strictly smaller than $k$."
   ]
  },
  {
   "cell_type": "code",
   "execution_count": 2,
   "metadata": {
    "collapsed": true
   },
   "outputs": [],
   "source": [
    "def get_b(D_input,k):\n",
    "    D = [v for v in D_input]\n",
    "    while max(D)>= k:\n",
    "        D = omega(D,k)   \n",
    "    b = len(D)\n",
    "    return b "
   ]
  },
  {
   "cell_type": "markdown",
   "metadata": {},
   "source": [
    "## $(i,j)-$step and goind between two sequences\n",
    "\n",
    "Let $E = [e_l]$ be a non-decreasing sequence, and let $i$ and $j$ be indices of two elements in the sequence, $i<j$. Then \n",
    "- if $e_j > k$ and $e_j-e_i \\geq 2$, then decrement $e_j$ and increment $e_i$\n",
    "- if $e_j < k$ and $e_i > 0$, then increment $e_j$ and decrement $e_i$.\n",
    "\n",
    "__Definition:__ Let $D=[d_l]$ and $E=[e_l]$ be two non-decreasing sequences. Then $D \\leq E$ if the following hold:\n",
    "- $ \\sum d_l = \\sum e_l$\n",
    "- starting from $E$, we can obtain $D$ by a finite sequence of $(i,j)$-steps."
   ]
  },
  {
   "cell_type": "code",
   "execution_count": 3,
   "metadata": {
    "collapsed": true
   },
   "outputs": [],
   "source": [
    "def i_j_step(E,i,j,k):\n",
    "    ''' adjust E at vertices i and j'''\n",
    "    if i==j:\n",
    "        return \n",
    "    elif j<i: # make sure that i<j\n",
    "        temp = i\n",
    "        i = j\n",
    "        j = temp\n",
    "\n",
    "    if (E[j] > k) and (E[j]-E[i] >= 2):\n",
    "        E[j] -= 1\n",
    "        E[i] += 1\n",
    "    elif (E[j] < k) and (E[i] > 0):\n",
    "        E[i] -= 1\n",
    "        E[j] += 1\n",
    "    return sorted(E)"
   ]
  },
  {
   "cell_type": "markdown",
   "metadata": {},
   "source": [
    "Assume we are given two sequences $D=[d_l]$ and $E=[e_l]$ such that $$\\sum_l d_l = \\sum_l e_l. $$ We want to determine if we can use $(i,j)$-steps to reduce sequence $E$ to sequence $D$. We can try to do so:\n",
    "1. deterministically\n",
    "2. randomly\n",
    "\n",
    "Output is a binary value.\n",
    "$$\n",
    "\\mbox{return} := \\left\\{ \\begin{array}{ll}\n",
    "1, & \\mbox{successfully equalized sequences} \\\\\n",
    "0, & \\mbox{otherwise}. \\end{array}\\right. \n",
    "$$\n",
    "\n",
    "__Deterministically:__ We can choose $i$ to be the smallest index at which sequence $D$ and $E$ differe and $j$ to be the greatest index at which $D$ and $E$ differ. Try to perfom an $(i,j)$-step for such choice of $i$ and $j$ at most $10 \\sum_l d_l$ times (somewhat arbitrary choice of the maximum number of iterations)."
   ]
  },
  {
   "cell_type": "code",
   "execution_count": 4,
   "metadata": {
    "collapsed": true
   },
   "outputs": [],
   "source": [
    "def legal_step_deterministic(D,E,k):\n",
    "    ''' guide E towards D '''\n",
    "    n = len(D)\n",
    "    \n",
    "    j = n-1\n",
    "    i = -1\n",
    "    while j>=0 and E[j]==D[j]:\n",
    "        j -= 1\n",
    "    if j== -1:\n",
    "        return E\n",
    "    i = j-1\n",
    "    while i>=0 and E[i]==D[i]:\n",
    "        i -= 1\n",
    "    if i == -1:\n",
    "        return E\n",
    "    return i_j_step(E,i,j,k)\n",
    "\n",
    "def equalize_sequence_deterministic(D_in,E_in,k):\n",
    "    max_count = 10*sum(D_in)\n",
    "    E = [v for v in E_in]\n",
    "    D = D_in\n",
    "    count = 0\n",
    "    \n",
    "    if max_count == 0: ### D and E are zero sequences\n",
    "        return 1\n",
    "   \n",
    "    while count<max_count and D!=E and E!=[]:\n",
    "        E = legal_step_deterministic(D,E,k)\n",
    "        count += 1\n",
    "    if count == max_count or E==[]:\n",
    "        return 0\n",
    "    else:\n",
    "        return 1  \n"
   ]
  },
  {
   "cell_type": "markdown",
   "metadata": {},
   "source": [
    "__Randomly:__ We can pick random values for $i$ and $j$ at which we perform $(i,j)$-step. The only consideration is that $d_i > e_i$ and $d_j < e_j$, so that we have two indices one of which needs to be decremented and the other needs to be incremented."
   ]
  },
  {
   "cell_type": "code",
   "execution_count": 5,
   "metadata": {
    "collapsed": true
   },
   "outputs": [],
   "source": [
    "from random import random\n",
    "\n",
    "def legal_step_random(D,E,k):\n",
    "    ''' guide E towards D '''\n",
    "    \n",
    "    n = len(D)    \n",
    "    j = -1\n",
    "    i = -1\n",
    "    while j<0:\n",
    "        j = int(random()*n)\n",
    "        if (E[j] <= D[j]):\n",
    "            j = -1\n",
    "    while i<0:\n",
    "        i = int(random()*n)\n",
    "        if (E[i] >= D[i]):\n",
    "            i = -1\n",
    "    return i_j_step(E,i,j,k)\n",
    "\n",
    "def equalize_sequence_random(D_in,E_in,k):\n",
    "    max_count1 = 3*sum(D_in) ## number of times to try to find i and j for legal decrement\n",
    "    max_count2 = 5 ## number of times to start over and try to equalize from the beginning\n",
    "\n",
    "    out_count = 0\n",
    "    while out_count<max_count2:\n",
    "        E = [v for v in E_in]\n",
    "        D = D_in\n",
    "        count = 0\n",
    "        \n",
    "        if max_count1 == 0: ### D and E are zero sequences\n",
    "            return 1\n",
    "       \n",
    "        while count<max_count1 and D!=E and E!=[]:\n",
    "            E = legal_step_random(D,E,k)\n",
    "            count += 1\n",
    "        if D==E:\n",
    "            return 1\n",
    "        else:\n",
    "            out_count += 1\n",
    "    return 0   "
   ]
  },
  {
   "cell_type": "markdown",
   "metadata": {},
   "source": [
    "## Elimination sequence\n",
    "\n",
    "Given a non-decreasing sequence $D=[d_l]$, let $\\mathcal{E}(D) = [d^i]$ be the $\\omega$-elimination sequence of $D$ such that $d^i$ is the number of legal decrements performed in the $i^{th}$ application of $\\omega$-operator starting with sequence $D$, and terminating with an empty sequence. \n",
    "\n",
    "**Claim:** $b(D)=b(\\mathcal{E}(D))$.\n",
    "\n",
    "To evaluate the claim, function **get_b_from_ED** computes $b(\\mathcal{E}(D))$."
   ]
  },
  {
   "cell_type": "code",
   "execution_count": 6,
   "metadata": {
    "collapsed": true
   },
   "outputs": [],
   "source": [
    "def elimination_sequence(D_input,k):\n",
    "    D = [v for v in D_input]\n",
    "    n = len(D)\n",
    "    ED = [D[-1]]\n",
    "    for _ in range(n-1):\n",
    "        D = omega(D,k)         \n",
    "        ED.append(D[-1])\n",
    "    return ED   \n",
    "\n",
    "def get_b_from_ED(D,k):\n",
    "    ## get ED\n",
    "    ED = elimination_sequence(D,k)\n",
    "    \n",
    "    ## go in reverse and count num of degs < k\n",
    "    b = 0\n",
    "    n = len(D)\n",
    "    for m in range(len(ED)):\n",
    "        if ED[n-1-m] < k:\n",
    "            b += 1\n",
    "        else:\n",
    "            break\n",
    "    return b"
   ]
  }
 ],
 "metadata": {
  "kernelspec": {
   "display_name": "Python 2",
   "language": "python",
   "name": "python2"
  },
  "language_info": {
   "codemirror_mode": {
    "name": "ipython",
    "version": 2
   },
   "file_extension": ".py",
   "mimetype": "text/x-python",
   "name": "python",
   "nbconvert_exporter": "python",
   "pygments_lexer": "ipython2",
   "version": "2.7.6"
  }
 },
 "nbformat": 4,
 "nbformat_minor": 0
}
