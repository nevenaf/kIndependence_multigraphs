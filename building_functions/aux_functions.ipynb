{
 "cells": [
  {
   "cell_type": "markdown",
   "metadata": {},
   "source": [
    "## Auxiliary functions\n",
    "\n",
    "- Add zeros to the beginning of a sequence to get a desired length. Useful for equalizeing length of equence. "
   ]
  },
  {
   "cell_type": "code",
   "execution_count": 1,
   "metadata": {
    "collapsed": true
   },
   "outputs": [],
   "source": [
    "def add_zeros(D_in, new_length):\n",
    "    n = len(D_in)\n",
    "    D = [0 for _ in range(new_length-n)] + [v for v in D_in]\n",
    "    return D"
   ]
  },
  {
   "cell_type": "markdown",
   "metadata": {},
   "source": [
    "- Random integer partition of $n$ with smaller part being at least min_i -- Not so good. Gives a sequence with many 1s. \n"
   ]
  },
  {
   "cell_type": "code",
   "execution_count": 2,
   "metadata": {
    "collapsed": true
   },
   "outputs": [],
   "source": [
    "from numpy.random import geometric\n",
    "from math import ceil,exp,sqrt\n",
    "\n",
    "def random_integer_partition(n, min_i):\n",
    "    p = []\n",
    "    \n",
    "    x = float(exp(-3.14/sqrt(6.0*float(n))))\n",
    "    \n",
    "    good = False\n",
    "    while not good:\n",
    "        z = [0 for i in range(min_i-1)]\n",
    "        z = z+[geometric(1-pow(x,i+1))-1 for i in range(min_i-1, n)]\n",
    "        sum = 0 \n",
    "        for i in range(min_i-1, n):\n",
    "            sum = sum + (i+1)*z[i]\n",
    "        good = sum==n\n",
    "    \n",
    "    p = [i+1 for i in range(n) for _ in range(z[i])]\n",
    "    return p"
   ]
  }
 ],
 "metadata": {
  "kernelspec": {
   "display_name": "Python 2",
   "language": "python",
   "name": "python2"
  },
  "language_info": {
   "codemirror_mode": {
    "name": "ipython",
    "version": 2
   },
   "file_extension": ".py",
   "mimetype": "text/x-python",
   "name": "python",
   "nbconvert_exporter": "python",
   "pygments_lexer": "ipython2",
   "version": "2.7.6"
  }
 },
 "nbformat": 4,
 "nbformat_minor": 0
}
