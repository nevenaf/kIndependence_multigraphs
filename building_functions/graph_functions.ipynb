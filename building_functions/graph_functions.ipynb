{
 "cells": [
  {
   "cell_type": "markdown",
   "metadata": {},
   "source": [
    "## Graph related functions\n",
    "\n",
    "A graph is represented by an adjacency matrix $A$ such that \n",
    "$$ A[u][v] = m \\; \\mbox{ if there is an edge of multiblicity $m$ between $u$ and $v$}$$\n",
    "\n",
    "We can generate a random graph:\n",
    "- with given maximum degree\n",
    "- with given number of edges"
   ]
  },
  {
   "cell_type": "code",
   "execution_count": 1,
   "metadata": {
    "collapsed": true
   },
   "outputs": [],
   "source": [
    "from random import random"
   ]
  },
  {
   "cell_type": "code",
   "execution_count": 2,
   "metadata": {
    "collapsed": true
   },
   "outputs": [],
   "source": [
    "def generate_graph_max_deg(num_v, max_deg):\n",
    "    adj_mat = [[0 for u in range(num_v)] for v in range(num_v)]\n",
    "    degs = [0 for v in range(num_v)]\n",
    "    \n",
    "    while (max(degs)<max_deg):\n",
    "        # pick a new edge\n",
    "        u = int(random()*num_v)\n",
    "        v = int(random()*num_v)\n",
    "        while(u == v):\n",
    "            v = int(random()*num_v)\n",
    "            \n",
    "        adj_mat[u][v] += 1\n",
    "        adj_mat[v][u] += 1\n",
    "        \n",
    "        degs[u] += 1\n",
    "        degs[v] += 1\n",
    "        \n",
    "    return adj_mat\n",
    "\n",
    "\n",
    "    \n",
    "def generate_graph_max_edges(num_v, max_edges):\n",
    "    adj_mat = [[0 for u in range(num_v)] for v in range(num_v)]\n",
    "    \n",
    "    count = 0\n",
    "    \n",
    "    while (count<max_edges):\n",
    "        # pick a new edge\n",
    "        u = int(random()*num_v)\n",
    "        v = int(random()*num_v)\n",
    "        while(u == v):\n",
    "            v = int(random()*num_v)\n",
    "            \n",
    "        adj_mat[u][v] += 1\n",
    "        adj_mat[v][u] += 1\n",
    "        \n",
    "        count += 1\n",
    "\n",
    "    return adj_mat\n",
    "    "
   ]
  },
  {
   "cell_type": "markdown",
   "metadata": {},
   "source": [
    "- Return degree sequence, given the adjacency matrix"
   ]
  },
  {
   "cell_type": "code",
   "execution_count": 3,
   "metadata": {
    "collapsed": true
   },
   "outputs": [],
   "source": [
    "def get_deg_seq(adjacency_matrix):\n",
    "    return [sum(s) for s in adjacency_matrix]"
   ]
  },
  {
   "cell_type": "markdown",
   "metadata": {},
   "source": [
    "- Get adjacency matrix of the induced subgraph on the given set of vertices"
   ]
  },
  {
   "cell_type": "code",
   "execution_count": 4,
   "metadata": {
    "collapsed": true
   },
   "outputs": [],
   "source": [
    "def induced_subgraph_adjacency_matrix(vertices, adjacency_matrix):\n",
    "    new_n = len(vertices)\n",
    "    new_adj_mat = [[0 for __ in range(new_n)] for _ in range(new_n)]\n",
    "    for i in range(new_n):\n",
    "        v = vertices[i]\n",
    "        for j in range(i+1, new_n):\n",
    "            u = vertices[j]\n",
    "            new_adj_mat[i][j] = adjacency_matrix[v][u] \n",
    "            new_adj_mat[j][i] = adjacency_matrix[u][v]\n",
    "    return new_adj_mat"
   ]
  },
  {
   "cell_type": "markdown",
   "metadata": {},
   "source": [
    "## MAX-algorithm\n",
    "\n",
    "__remove_vertes_of_highest_degree:__ returns the adjacency matrix of the graph obtained by deleting (any) vertex of maximum degree in the given graph\n",
    "\n",
    "__MAX_move:__ if there is a vertex of degree at least $k$, then remove a vertex of the highest degree and return the degree sequence of the obtained graph. otherwise, return the degree sequence of the original graph."
   ]
  },
  {
   "cell_type": "code",
   "execution_count": 5,
   "metadata": {
    "collapsed": true
   },
   "outputs": [],
   "source": [
    "def remove_vertex_of_highest_degree(adjacency_matrix):\n",
    "    degs = get_deg_seq(adjacency_matrix)\n",
    "    num_v = len(adjacency_matrix)\n",
    "    \n",
    "    ### get vertices of max deg\n",
    "    max_deg = max(degs)\n",
    "    max_deg_v = [v for v in range(num_v) if degs[v]==max_deg]\n",
    "    \n",
    "    ### pick a random vertex of max deg\n",
    "    v = max_deg_v[int(random()*len(max_deg_v))]\n",
    "    ### delete v\n",
    "    new_mat = [adjacency_matrix[u][0:v]+adjacency_matrix[u][v+1:num_v] for u in range(num_v) if u!= v]\n",
    "    \n",
    "    return new_mat\n",
    "\n",
    "def MAX_move(adjacency_matrix, k):\n",
    "    degs = get_deg_seq(adjacency_matrix)\n",
    "    if max(degs)<k:\n",
    "        return sorted(degs)\n",
    "    else:\n",
    "        new_mat = remove_vertex_of_highest_degree(adjacency_matrix)\n",
    "        return sorted(get_deg_seq(new_mat))\n",
    "    \n",
    "def get_b_MAX(adjacency_matrix, k):\n",
    "    new_mat = [row for row in adjacency_matrix]\n",
    "    deg_seq = get_deg_seq(new_mat)\n",
    "    \n",
    "    while max(deg_seq)>=k:\n",
    "        new_mat = remove_vertex_of_highest_degree(new_mat)\n",
    "        deg_seq = get_deg_seq(new_mat)\n",
    "    return len(deg_seq)    "
   ]
  },
  {
   "cell_type": "markdown",
   "metadata": {},
   "source": [
    "## Criterion for a sequence to be multi-graphical"
   ]
  },
  {
   "cell_type": "code",
   "execution_count": 1,
   "metadata": {
    "collapsed": true
   },
   "outputs": [],
   "source": [
    "def is_multigraphical(D):\n",
    "    n = len(D)\n",
    "    return D[-1] <= sum(D[0:n-1])"
   ]
  },
  {
   "cell_type": "code",
   "execution_count": null,
   "metadata": {
    "collapsed": true
   },
   "outputs": [],
   "source": []
  }
 ],
 "metadata": {
  "kernelspec": {
   "display_name": "Python 2",
   "language": "python",
   "name": "python2"
  },
  "language_info": {
   "codemirror_mode": {
    "name": "ipython",
    "version": 2
   },
   "file_extension": ".py",
   "mimetype": "text/x-python",
   "name": "python",
   "nbconvert_exporter": "python",
   "pygments_lexer": "ipython2",
   "version": "2.7.10"
  }
 },
 "nbformat": 4,
 "nbformat_minor": 0
}
