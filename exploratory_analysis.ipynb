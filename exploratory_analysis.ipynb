{
 "cells": [
  {
   "cell_type": "markdown",
   "metadata": {},
   "source": [
    "## Exploratory analysis"
   ]
  },
  {
   "cell_type": "code",
   "execution_count": 4,
   "metadata": {
    "collapsed": false
   },
   "outputs": [],
   "source": [
    "from jelen_triesch_argument.kIndependence_functions import * \n",
    "from building_functions.graph_functions import * \n",
    "from building_functions.aux_functions import *"
   ]
  },
  {
   "cell_type": "markdown",
   "metadata": {},
   "source": [
    "* __Are $(i,j)$-steps well defined?__ Make a random graph. Let $D$ be a sequence obtained by one applicatin of $\\omega$ operator. Let $E$ be a sequence obtained by one application of MAX-algorithm. Verify if $D$ can be obtaine from $E$ by our $(i,j)$-steps. That is, verify if $D \\leq E$."
   ]
  },
  {
   "cell_type": "code",
   "execution_count": 5,
   "metadata": {
    "collapsed": false
   },
   "outputs": [
    {
     "name": "stdout",
     "output_type": "stream",
     "text": [
      "counter-examples:\n",
      "\n",
      "done\n"
     ]
    }
   ],
   "source": [
    "max_count = 100\n",
    "\n",
    "print 'counter-examples:'\n",
    "\n",
    "for v in range(5, 30):\n",
    "    for num_e in range(2, v*(v-1)):\n",
    "        for count in range(max_count):\n",
    "            adj_mat = generate_graph_max_edges(v, num_e)\n",
    "            degs = sorted(get_deg_seq(adj_mat))\n",
    "            k = 1+int(random()*degs[-1])\n",
    "\n",
    "            D = omega(degs, k)\n",
    "            E = MAX_move(adj_mat, k)\n",
    "            \n",
    "            if equalize_sequence_random(D,E,k)==0:\n",
    "                print 'error'\n",
    "                print 'k=', k, 'D:', D, 'E:', E, 'orig:', degs\n",
    "                print ''\n",
    "print ''\n",
    "print 'done'"
   ]
  },
  {
   "cell_type": "markdown",
   "metadata": {},
   "source": [
    "* __Claim:__ If $D$ and $E$ are multigraphical $D \\leq E$ , then $b(D) \\leq b(E)$. "
   ]
  },
  {
   "cell_type": "code",
   "execution_count": 3,
   "metadata": {
    "collapsed": true
   },
   "outputs": [],
   "source": [
    "def get_random_vals(num_e):\n",
    "    D = random_integer_partition(num_e,1)\n",
    "    E = random_integer_partition(num_e,1)\n",
    "    k = 1+int(random()*max(max(D), max(E)))\n",
    "\n",
    "    n1 = len(D)\n",
    "    n2 = len(E)\n",
    "    if n1<n2:\n",
    "        D = add_zeros(D, n2)\n",
    "    elif n1>n2:\n",
    "        E = add_zeros(E, n1)\n",
    "    return [D,E,k]"
   ]
  },
  {
   "cell_type": "code",
   "execution_count": 4,
   "metadata": {
    "collapsed": false
   },
   "outputs": [
    {
     "name": "stdout",
     "output_type": "stream",
     "text": [
      "counter-examples:\n",
      "\n",
      "done\n"
     ]
    }
   ],
   "source": [
    "num_good_partitions = 100\n",
    "\n",
    "print 'counter-examples:'\n",
    "\n",
    "for num_e in range(10,51,2):\n",
    "    for count in range(num_good_partitions):  \n",
    "        D,E,k = get_random_vals(num_e)\n",
    "        while D[-1]>(num_e/2) or E[-1]>(num_e/2) or equalize_sequence_random(D,E,k)==0:\n",
    "            D,E,k = get_random_vals(num_e)\n",
    "                          \n",
    "        bD = get_b(D,k)\n",
    "        bE = get_b(E,k)\n",
    "        if bD>bE:\n",
    "            print 'k=', k, 'D=', D, 'E=', E  \n",
    "            print 'b(D)=', bD, 'b(E)=', bE \n",
    "print ''\n",
    "print 'done'        "
   ]
  },
  {
   "cell_type": "markdown",
   "metadata": {},
   "source": [
    "- __Claim:__ If $D$ and $E$ are multi-graphical and $D \\leq E$ then $\\mathcal{E}(D) \\leq \\mathcal{E}(E)$. \n",
    "\n",
    "It is enought to prove the claim if $E$ is obtaine from $D$ by a single $(i,j)$-step. The following code verifies this claim."
   ]
  },
  {
   "cell_type": "code",
   "execution_count": 5,
   "metadata": {
    "collapsed": false
   },
   "outputs": [
    {
     "name": "stdout",
     "output_type": "stream",
     "text": [
      "counter-examples:\n",
      "\n",
      "done\n"
     ]
    }
   ],
   "source": [
    "num_good_partitions = 100\n",
    "num_tries = 100\n",
    "\n",
    "print 'counter-examples:'\n",
    "\n",
    "for num_e in range(10,31,2):\n",
    "    for count in range(num_good_partitions):\n",
    "        D = random_integer_partition(num_e,1)\n",
    "        D = sorted(D)\n",
    "        n = len(D)\n",
    "        if sum(D[0:n-1])>=D[-1]: ## is graphical?\n",
    "            for k in range(1,max(D)+1):\n",
    "                ED = elimination_sequence(D,k)\n",
    "                \n",
    "                for count2 in range(num_tries):\n",
    "                    i = int(random()*n)\n",
    "                    j = i\n",
    "                    while (j==i):\n",
    "                        j = int(random()*n)\n",
    "                    E = [d for d in D]\n",
    "                    E = i_j_step(E,i,j,k)\n",
    "                    \n",
    "                    EE = elimination_sequence(E,k)\n",
    "                    \n",
    "                    if (sum(ED)!=sum(EE)) or (equalize_sequence_random(sorted(EE),sorted(ED),k)==0):\n",
    "                        print 'k=', k, 'E:', E, 'D:', D\n",
    "                        print 'EE:', EE, 'ED:', ED \n",
    "                        print ''\n",
    "print ''\n",
    "print 'done'"
   ]
  }
 ],
 "metadata": {
  "kernelspec": {
   "display_name": "Python 2",
   "language": "python",
   "name": "python2"
  },
  "language_info": {
   "codemirror_mode": {
    "name": "ipython",
    "version": 2
   },
   "file_extension": ".py",
   "mimetype": "text/x-python",
   "name": "python",
   "nbconvert_exporter": "python",
   "pygments_lexer": "ipython2",
   "version": "2.7.6"
  }
 },
 "nbformat": 4,
 "nbformat_minor": 0
}
